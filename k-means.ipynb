{
 "cells": [
  {
   "cell_type": "markdown",
   "metadata": {},
   "source": [
    "### Import Modules"
   ]
  },
  {
   "cell_type": "code",
   "execution_count": 1,
   "metadata": {},
   "outputs": [],
   "source": [
    "import pandas as pd\n",
    "import numpy as np\n",
    "eps = np.finfo(float).eps\n",
    "\n",
    "from sklearn import decomposition\n",
    "from sklearn import preprocessing\n",
    "\n",
    "import seaborn as sns\n",
    "import matplotlib.pyplot as plt\n",
    "\n",
    "from typing import NoReturn, Callable"
   ]
  },
  {
   "cell_type": "markdown",
   "metadata": {},
   "source": [
    "### Read Dataset"
   ]
  },
  {
   "cell_type": "code",
   "execution_count": 2,
   "metadata": {},
   "outputs": [],
   "source": [
    "df = pd.read_csv('datasets/preprocessed.csv')\n",
    "df.set_index('region', inplace=True)"
   ]
  },
  {
   "cell_type": "code",
   "execution_count": 3,
   "metadata": {},
   "outputs": [
    {
     "data": {
      "text/html": [
       "<div>\n",
       "<style scoped>\n",
       "    .dataframe tbody tr th:only-of-type {\n",
       "        vertical-align: middle;\n",
       "    }\n",
       "\n",
       "    .dataframe tbody tr th {\n",
       "        vertical-align: top;\n",
       "    }\n",
       "\n",
       "    .dataframe thead th {\n",
       "        text-align: right;\n",
       "    }\n",
       "</style>\n",
       "<table border=\"1\" class=\"dataframe\">\n",
       "  <thead>\n",
       "    <tr style=\"text-align: right;\">\n",
       "      <th></th>\n",
       "      <th>turnover</th>\n",
       "      <th>first</th>\n",
       "      <th>second</th>\n",
       "      <th>third</th>\n",
       "    </tr>\n",
       "    <tr>\n",
       "      <th>region</th>\n",
       "      <th></th>\n",
       "      <th></th>\n",
       "      <th></th>\n",
       "      <th></th>\n",
       "    </tr>\n",
       "  </thead>\n",
       "  <tbody>\n",
       "    <tr>\n",
       "      <th>Вінницька</th>\n",
       "      <td>18287.8</td>\n",
       "      <td>85.0</td>\n",
       "      <td>103.3</td>\n",
       "      <td>98.5</td>\n",
       "    </tr>\n",
       "    <tr>\n",
       "      <th>Волинська</th>\n",
       "      <td>13755.0</td>\n",
       "      <td>85.0</td>\n",
       "      <td>95.0</td>\n",
       "      <td>96.4</td>\n",
       "    </tr>\n",
       "    <tr>\n",
       "      <th>Дніпропетровська</th>\n",
       "      <td>51951.8</td>\n",
       "      <td>80.1</td>\n",
       "      <td>103.7</td>\n",
       "      <td>99.1</td>\n",
       "    </tr>\n",
       "    <tr>\n",
       "      <th>Донецька2</th>\n",
       "      <td>19145.0</td>\n",
       "      <td>29.3</td>\n",
       "      <td>87.8</td>\n",
       "      <td>61.2</td>\n",
       "    </tr>\n",
       "    <tr>\n",
       "      <th>Житомирська</th>\n",
       "      <td>15879.1</td>\n",
       "      <td>87.3</td>\n",
       "      <td>101.7</td>\n",
       "      <td>99.7</td>\n",
       "    </tr>\n",
       "    <tr>\n",
       "      <th>Закарпатська</th>\n",
       "      <td>13672.4</td>\n",
       "      <td>85.5</td>\n",
       "      <td>103.4</td>\n",
       "      <td>98.4</td>\n",
       "    </tr>\n",
       "    <tr>\n",
       "      <th>Запорізька</th>\n",
       "      <td>27131.5</td>\n",
       "      <td>82.1</td>\n",
       "      <td>100.8</td>\n",
       "      <td>98.0</td>\n",
       "    </tr>\n",
       "    <tr>\n",
       "      <th>Івано-Франківська</th>\n",
       "      <td>17993.8</td>\n",
       "      <td>84.9</td>\n",
       "      <td>101.0</td>\n",
       "      <td>99.8</td>\n",
       "    </tr>\n",
       "    <tr>\n",
       "      <th>Київська</th>\n",
       "      <td>28775.5</td>\n",
       "      <td>86.6</td>\n",
       "      <td>104.8</td>\n",
       "      <td>96.8</td>\n",
       "    </tr>\n",
       "    <tr>\n",
       "      <th>Кіровоградська</th>\n",
       "      <td>11639.9</td>\n",
       "      <td>83.8</td>\n",
       "      <td>104.6</td>\n",
       "      <td>99.9</td>\n",
       "    </tr>\n",
       "    <tr>\n",
       "      <th>Луганська2</th>\n",
       "      <td>4721.9</td>\n",
       "      <td>17.2</td>\n",
       "      <td>80.4</td>\n",
       "      <td>43.3</td>\n",
       "    </tr>\n",
       "    <tr>\n",
       "      <th>Львівська</th>\n",
       "      <td>31285.1</td>\n",
       "      <td>88.3</td>\n",
       "      <td>102.4</td>\n",
       "      <td>98.4</td>\n",
       "    </tr>\n",
       "    <tr>\n",
       "      <th>Миколаївська</th>\n",
       "      <td>15412.5</td>\n",
       "      <td>78.4</td>\n",
       "      <td>96.3</td>\n",
       "      <td>93.4</td>\n",
       "    </tr>\n",
       "    <tr>\n",
       "      <th>Одеська</th>\n",
       "      <td>39524.5</td>\n",
       "      <td>81.1</td>\n",
       "      <td>101.6</td>\n",
       "      <td>91.2</td>\n",
       "    </tr>\n",
       "    <tr>\n",
       "      <th>Полтавська</th>\n",
       "      <td>16196.1</td>\n",
       "      <td>77.6</td>\n",
       "      <td>100.5</td>\n",
       "      <td>95.4</td>\n",
       "    </tr>\n",
       "    <tr>\n",
       "      <th>Рівненська</th>\n",
       "      <td>13081.7</td>\n",
       "      <td>86.6</td>\n",
       "      <td>103.0</td>\n",
       "      <td>99.9</td>\n",
       "    </tr>\n",
       "    <tr>\n",
       "      <th>Сумська</th>\n",
       "      <td>12311.9</td>\n",
       "      <td>81.6</td>\n",
       "      <td>103.3</td>\n",
       "      <td>98.2</td>\n",
       "    </tr>\n",
       "    <tr>\n",
       "      <th>Тернопільська</th>\n",
       "      <td>10989.5</td>\n",
       "      <td>87.4</td>\n",
       "      <td>102.1</td>\n",
       "      <td>98.7</td>\n",
       "    </tr>\n",
       "    <tr>\n",
       "      <th>Харківська</th>\n",
       "      <td>46525.4</td>\n",
       "      <td>83.0</td>\n",
       "      <td>103.0</td>\n",
       "      <td>98.6</td>\n",
       "    </tr>\n",
       "    <tr>\n",
       "      <th>Херсонська</th>\n",
       "      <td>13558.7</td>\n",
       "      <td>79.5</td>\n",
       "      <td>103.0</td>\n",
       "      <td>97.1</td>\n",
       "    </tr>\n",
       "    <tr>\n",
       "      <th>Хмельницька</th>\n",
       "      <td>14275.4</td>\n",
       "      <td>80.7</td>\n",
       "      <td>100.7</td>\n",
       "      <td>93.1</td>\n",
       "    </tr>\n",
       "    <tr>\n",
       "      <th>Черкаська</th>\n",
       "      <td>15338.2</td>\n",
       "      <td>86.0</td>\n",
       "      <td>103.3</td>\n",
       "      <td>99.3</td>\n",
       "    </tr>\n",
       "    <tr>\n",
       "      <th>Чернівецька</th>\n",
       "      <td>9753.8</td>\n",
       "      <td>86.8</td>\n",
       "      <td>103.6</td>\n",
       "      <td>99.7</td>\n",
       "    </tr>\n",
       "    <tr>\n",
       "      <th>Чернігівська</th>\n",
       "      <td>11896.2</td>\n",
       "      <td>81.6</td>\n",
       "      <td>103.2</td>\n",
       "      <td>98.8</td>\n",
       "    </tr>\n",
       "    <tr>\n",
       "      <th>м. Київ</th>\n",
       "      <td>86771.1</td>\n",
       "      <td>86.2</td>\n",
       "      <td>98.7</td>\n",
       "      <td>96.9</td>\n",
       "    </tr>\n",
       "  </tbody>\n",
       "</table>\n",
       "</div>"
      ],
      "text/plain": [
       "                   turnover  first  second  third\n",
       "region                                           \n",
       "Вінницька           18287.8   85.0   103.3   98.5\n",
       "Волинська           13755.0   85.0    95.0   96.4\n",
       "Дніпропетровська    51951.8   80.1   103.7   99.1\n",
       "Донецька2           19145.0   29.3    87.8   61.2\n",
       "Житомирська         15879.1   87.3   101.7   99.7\n",
       "Закарпатська        13672.4   85.5   103.4   98.4\n",
       "Запорізька          27131.5   82.1   100.8   98.0\n",
       "Івано-Франківська   17993.8   84.9   101.0   99.8\n",
       "Київська            28775.5   86.6   104.8   96.8\n",
       "Кіровоградська      11639.9   83.8   104.6   99.9\n",
       "Луганська2           4721.9   17.2    80.4   43.3\n",
       "Львівська           31285.1   88.3   102.4   98.4\n",
       "Миколаївська        15412.5   78.4    96.3   93.4\n",
       "Одеська             39524.5   81.1   101.6   91.2\n",
       "Полтавська          16196.1   77.6   100.5   95.4\n",
       "Рівненська          13081.7   86.6   103.0   99.9\n",
       "Сумська             12311.9   81.6   103.3   98.2\n",
       "Тернопільська       10989.5   87.4   102.1   98.7\n",
       "Харківська          46525.4   83.0   103.0   98.6\n",
       "Херсонська          13558.7   79.5   103.0   97.1\n",
       "Хмельницька         14275.4   80.7   100.7   93.1\n",
       "Черкаська           15338.2   86.0   103.3   99.3\n",
       "Чернівецька          9753.8   86.8   103.6   99.7\n",
       "Чернігівська        11896.2   81.6   103.2   98.8\n",
       "м. Київ             86771.1   86.2    98.7   96.9"
      ]
     },
     "execution_count": 3,
     "metadata": {},
     "output_type": "execute_result"
    }
   ],
   "source": [
    "df"
   ]
  },
  {
   "cell_type": "markdown",
   "metadata": {},
   "source": [
    "### Normalize Data"
   ]
  },
  {
   "cell_type": "code",
   "execution_count": 4,
   "metadata": {},
   "outputs": [],
   "source": [
    "scaler = preprocessing.StandardScaler()\n",
    "scaled = pd.DataFrame(\n",
    "    data=scaler.fit_transform(df.values),\n",
    "    index=df.index,\n",
    "    columns=df.columns,\n",
    ")"
   ]
  },
  {
   "cell_type": "markdown",
   "metadata": {},
   "source": [
    "### Distances and Metrics"
   ]
  },
  {
   "cell_type": "code",
   "execution_count": 5,
   "metadata": {},
   "outputs": [],
   "source": [
    "def minkowski(data: np.ndarray, centroids: np.ndarray, power: int = 2) -> np.ndarray:\n",
    "    return np.sum((centroids - data[:, None, :]) ** power, axis=2) ** (1 / power)\n",
    "\n",
    "def inertia(data: np.ndarray, centroids: np.ndarray, targets: np.ndarray) -> float:\n",
    "    return np.sqrt(np.square(centroids[targets] - data).sum())"
   ]
  },
  {
   "cell_type": "markdown",
   "metadata": {},
   "source": [
    "### K-Means Naive Implementation"
   ]
  },
  {
   "cell_type": "code",
   "execution_count": 6,
   "metadata": {},
   "outputs": [],
   "source": [
    "class KMeans():\n",
    "    \n",
    "    def __init__(self, n_clusters: int, distance: Callable = minkowski, metric: Callable = inertia, max_iters: int = 300, threshold: float = 0.0001) -> NoReturn:\n",
    "\n",
    "        self.n_clusters = n_clusters\n",
    "        self.max_iters = max_iters\n",
    "        self.distance = distance\n",
    "        self.metric = metric\n",
    "        self.threshold = threshold\n",
    "    \n",
    "    def initialize(self, data: np.ndarray) -> np.ndarray:\n",
    "        '''Initialize centroids with K-Means++ algorithm'''\n",
    "        \n",
    "        num_samples, dim = data.shape\n",
    "        centroids = np.empty((self.n_clusters, dim))\n",
    "        \n",
    "        idx = np.random.choice(num_samples)\n",
    "        centroids[0] = data[idx]\n",
    "        \n",
    "        for num in range(1, self.n_clusters):\n",
    "            \n",
    "            distance = np.min(self.distance(data, centroids), axis=1) + eps\n",
    "            probs = distance / np.sum(distance)\n",
    "            \n",
    "            idx = np.random.choice(num_samples, replace=False, p=probs)\n",
    "            centroids[num] = data[idx]\n",
    "            \n",
    "        return centroids\n",
    "    \n",
    "    def get_targets(self, data: np.ndarray) -> np.ndarray:\n",
    "        '''Identify cluster for each sample'''\n",
    "        \n",
    "        distance = self.distance(data, self.centroids)\n",
    "        return np.argmin(distance, axis=1)\n",
    "    \n",
    "    def compute_centroids(self, data: np.array) -> np.ndarray:\n",
    "        '''Compute new centroids as mean of all samples in each cluster'''\n",
    "        centroids = np.empty_like(self.centroids)\n",
    "        \n",
    "        for target in np.unique(self.targets):\n",
    "            centroids[target] = np.mean(data[self.targets == target], axis=0)\n",
    "        \n",
    "        return centroids\n",
    "    \n",
    "    def is_converged(self, centroids: np.ndarray) -> bool:\n",
    "        '''Check if Frobenius norm is less than threshold'''\n",
    "        \n",
    "        norm = np.sqrt(np.square(self.centroids - centroids).sum())\n",
    "        return norm <= self.threshold\n",
    "    \n",
    "    def compute_inertia(self, data: np.ndarray) -> float:\n",
    "        '''Compute quality functional'''\n",
    "        \n",
    "        return self.metric(data, self.centroids, self.targets)\n",
    "    \n",
    "    def fit(self, data: np.ndarray) -> np.ndarray:\n",
    "        '''Clusterize data with K-Means'''\n",
    "        \n",
    "        self.centroids = self.initialize(data)\n",
    "        \n",
    "        for idx in range(self.max_iters):\n",
    "            self.targets = self.get_targets(data)\n",
    "\n",
    "            centroids = self.centroids\n",
    "            self.centroids = self.compute_centroids(data)\n",
    "            \n",
    "            if self.is_converged(centroids): break\n",
    "            self.inertia = self.compute_inertia(data)\n",
    "\n",
    "        return self.targets"
   ]
  },
  {
   "cell_type": "markdown",
   "metadata": {},
   "source": [
    "### Elbow Method"
   ]
  },
  {
   "cell_type": "code",
   "execution_count": 7,
   "metadata": {},
   "outputs": [],
   "source": [
    "def elbow_method(min_clusters: int = 1, max_clusters: int = 10) -> np.ndarray:\n",
    "    \n",
    "    num_clusters = np.arange(min_clusters, max_clusters)\n",
    "    inertias = []\n",
    "    \n",
    "    for num in num_clusters:\n",
    "        kmeans = KMeans(n_clusters=num)\n",
    "        kmeans.fit(scaled.values)\n",
    "        inertias.append(kmeans.inertia)\n",
    "    \n",
    "    def plot_elbow() -> NoReturn:\n",
    "        \n",
    "        plt.figure(figsize=(8, 8))\n",
    "        plt.plot(num_clusters, inertias, '-ro')\n",
    "        \n",
    "        plt.xlabel('Num Clusters')\n",
    "        plt.ylabel('Inertia')\n",
    "\n",
    "    plot_elbow()\n",
    "    return inertias"
   ]
  },
  {
   "cell_type": "code",
   "execution_count": 8,
   "metadata": {},
   "outputs": [
    {
     "data": {
      "image/png": "[encoded data removed]",
      "text/plain": [
       "<Figure size 576x576 with 1 Axes>"
      ]
     },
     "metadata": {
      "needs_background": "light"
     },
     "output_type": "display_data"
    }
   ],
   "source": [
    "_ = elbow_method()"
   ]
  },
  {
   "cell_type": "code",
   "execution_count": 9,
   "metadata": {},
   "outputs": [],
   "source": [
    "num_clusters = 5"
   ]
  },
  {
   "cell_type": "markdown",
   "metadata": {},
   "source": [
    "### Clusterize Data"
   ]
  },
  {
   "cell_type": "code",
   "execution_count": 10,
   "metadata": {},
   "outputs": [],
   "source": [
    "kmeans = KMeans(num_clusters)\n",
    "clusters = kmeans.fit(scaled.values)"
   ]
  },
  {
   "cell_type": "markdown",
   "metadata": {},
   "source": [
    "### Centroids"
   ]
  },
  {
   "cell_type": "code",
   "execution_count": 11,
   "metadata": {},
   "outputs": [
    {
     "data": {
      "text/plain": [
       "array([[ 1.942,  0.223,  0.24 ,  0.193],\n",
       "       [-1.015, -3.681, -3.688, -3.973],\n",
       "       [-0.187, -2.959, -2.327, -2.57 ],\n",
       "       [-0.29 ,  0.113, -0.329,  0.099],\n",
       "       [-0.366,  0.37 ,  0.479,  0.377]])"
      ]
     },
     "execution_count": 11,
     "metadata": {},
     "output_type": "execute_result"
    }
   ],
   "source": [
    "np.round(kmeans.centroids, 3)"
   ]
  },
  {
   "cell_type": "markdown",
   "metadata": {},
   "source": [
    "### Visualize Clusterization"
   ]
  },
  {
   "cell_type": "markdown",
   "metadata": {},
   "source": [
    "#### Project in 2D space"
   ]
  },
  {
   "cell_type": "code",
   "execution_count": 12,
   "metadata": {},
   "outputs": [
    {
     "data": {
      "text/html": [
       "<div>\n",
       "<style scoped>\n",
       "    .dataframe tbody tr th:only-of-type {\n",
       "        vertical-align: middle;\n",
       "    }\n",
       "\n",
       "    .dataframe tbody tr th {\n",
       "        vertical-align: top;\n",
       "    }\n",
       "\n",
       "    .dataframe thead th {\n",
       "        text-align: right;\n",
       "    }\n",
       "</style>\n",
       "<table border=\"1\" class=\"dataframe\">\n",
       "  <thead>\n",
       "    <tr style=\"text-align: right;\">\n",
       "      <th></th>\n",
       "      <th>xx</th>\n",
       "      <th>yy</th>\n",
       "      <th>target</th>\n",
       "    </tr>\n",
       "    <tr>\n",
       "      <th>region</th>\n",
       "      <th></th>\n",
       "      <th></th>\n",
       "      <th></th>\n",
       "    </tr>\n",
       "  </thead>\n",
       "  <tbody>\n",
       "    <tr>\n",
       "      <th>Вінницька</th>\n",
       "      <td>-0.674488</td>\n",
       "      <td>-0.343827</td>\n",
       "      <td>4.0</td>\n",
       "    </tr>\n",
       "    <tr>\n",
       "      <th>Волинська</th>\n",
       "      <td>0.314716</td>\n",
       "      <td>-0.405434</td>\n",
       "      <td>3.0</td>\n",
       "    </tr>\n",
       "    <tr>\n",
       "      <th>Дніпропетровська</th>\n",
       "      <td>-0.856953</td>\n",
       "      <td>1.570646</td>\n",
       "      <td>0.0</td>\n",
       "    </tr>\n",
       "    <tr>\n",
       "      <th>Донецька2</th>\n",
       "      <td>4.517725</td>\n",
       "      <td>0.458031</td>\n",
       "      <td>2.0</td>\n",
       "    </tr>\n",
       "    <tr>\n",
       "      <th>Житомирська</th>\n",
       "      <td>-0.622552</td>\n",
       "      <td>-0.460268</td>\n",
       "      <td>4.0</td>\n",
       "    </tr>\n",
       "  </tbody>\n",
       "</table>\n",
       "</div>"
      ],
      "text/plain": [
       "                        xx        yy  target\n",
       "region                                      \n",
       "Вінницька        -0.674488 -0.343827     4.0\n",
       "Волинська         0.314716 -0.405434     3.0\n",
       "Дніпропетровська -0.856953  1.570646     0.0\n",
       "Донецька2         4.517725  0.458031     2.0\n",
       "Житомирська      -0.622552 -0.460268     4.0"
      ]
     },
     "execution_count": 12,
     "metadata": {},
     "output_type": "execute_result"
    }
   ],
   "source": [
    "pca = decomposition.PCA(n_components=2)\n",
    "norm = pca.fit_transform(scaled.values)\n",
    "\n",
    "target2d = pd.DataFrame(\n",
    "    data=np.hstack((norm, clusters[:, None])),\n",
    "    index=df.index,\n",
    "    columns=['xx', 'yy', 'target'],\n",
    ")\n",
    "target2d.head()"
   ]
  },
  {
   "cell_type": "markdown",
   "metadata": {},
   "source": [
    "### Plot Clustered Data"
   ]
  },
  {
   "cell_type": "code",
   "execution_count": 13,
   "metadata": {},
   "outputs": [
    {
     "data": {
      "text/plain": [
       "<AxesSubplot:xlabel='xx', ylabel='yy'>"
      ]
     },
     "execution_count": 13,
     "metadata": {},
     "output_type": "execute_result"
    },
    {
     "data": {
      "image/png": "[encoded data removed]",
      "text/plain": [
       "<Figure size 576x432 with 1 Axes>"
      ]
     },
     "metadata": {
      "needs_background": "light"
     },
     "output_type": "display_data"
    }
   ],
   "source": [
    "plt.figure(figsize=(8, 6))\n",
    "\n",
    "sns.scatterplot(\n",
    "    x='xx', y='yy', hue='target',\n",
    "    data=target2d, \n",
    "    palette='bright'\n",
    ")\n",
    "for idx, label in enumerate(target2d.index):\n",
    "    xy = target2d.iloc[idx][['xx', 'yy']]\n",
    "    plt.annotate(text=label, xy=xy)\n",
    "    \n",
    "sns.scatterplot(\n",
    "    x='xx', y='yy', s=200,\n",
    "    marker='x', color='red',\n",
    "    data=target2d.groupby('target').agg('mean')\n",
    ")"
   ]
  }
 ],
 "metadata": {
  "kernelspec": {
   "display_name": "Python 3",
   "language": "python",
   "name": "python3"
  },
  "language_info": {
   "codemirror_mode": {
    "name": "ipython",
    "version": 3
   },
   "file_extension": ".py",
   "mimetype": "text/x-python",
   "name": "python",
   "nbconvert_exporter": "python",
   "pygments_lexer": "ipython3",
   "version": "3.9.6"
  }
 },
 "nbformat": 4,
 "nbformat_minor": 4
}
